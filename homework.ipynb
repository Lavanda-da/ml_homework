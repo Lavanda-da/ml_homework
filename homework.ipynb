{
  "cells": [
    {
      "cell_type": "markdown",
      "id": "5372eb6b",
      "metadata": {
        "id": "5372eb6b"
      },
      "source": [
        "# Домашняя работа по регуляризации и оптимизации\n",
        "\n",
        "Ниже приводится корпус данных с двумя метками: 1 и -1. К данным применяется линейная модель классификации:\n",
        "\n",
        "$f(x, \\theta) = x_1 \\theta_1 + x_2 \\theta_2 + \\theta_3.$\n",
        "\n",
        "Предлагается подобрать параметры $\\theta$ минимизируя следующую функцию ошибки:\n",
        "\n",
        "$\\mathcal{L}(\\theta) = 0.1 \\|\\theta\\|^2 + \\frac{1}{N}\\sum\\limits_{i=1}^N \\max(0, 1 - y_i f(x_i, \\theta)).$\n",
        "\n",
        "Для оптимизации предлагается использовать метод градиентного спуска с 1000 шагами размера $0.1$ из начальной точки $(1, 1, 0)$."
      ]
    },
    {
      "cell_type": "code",
      "execution_count": null,
      "id": "84be44bf",
      "metadata": {
        "id": "84be44bf"
      },
      "outputs": [],
      "source": [
        "import numpy as np\n",
        "import yaml"
      ]
    },
    {
      "cell_type": "code",
      "execution_count": null,
      "id": "8e381337",
      "metadata": {
        "id": "8e381337",
        "colab": {
          "base_uri": "https://localhost:8080/"
        },
        "outputId": "fde5348c-bd65-477a-dad5-e506071675a0"
      },
      "outputs": [
        {
          "output_type": "stream",
          "name": "stdout",
          "text": [
            "Prediction: [ 1.   2.   1.   0.  -0.5]\n",
            "Loss: 0.5\n"
          ]
        }
      ],
      "source": [
        "X = np.array([\n",
        "    [0, 1, 1],\n",
        "    [1, 1, 1],\n",
        "    [1, 0, 1],\n",
        "    [-0.5, 0.5, 1],\n",
        "    [0, -0.5, 1]\n",
        "])\n",
        "\n",
        "y = np.array([1, 1, 1, -1, -1])\n",
        "\n",
        "theta0 = np.array([1.0, 1.0, 0.0])\n",
        "\n",
        "lr = 0.1\n",
        "\n",
        "def f(X, theta):\n",
        "    theta = np.asarray(theta)\n",
        "    return (X * theta).sum(axis=-1)\n",
        "\n",
        "def loss(X, y, theta):\n",
        "    theta = np.asarray(theta)\n",
        "    norm = (theta ** 2).sum()\n",
        "    deltas = y * f(X, theta)\n",
        "    return 0.1 * norm + np.mean(np.maximum(0, 1 - deltas))\n",
        "\n",
        "print(\"Prediction:\", f(X, theta0))\n",
        "print(\"Loss:\", loss(X, y, theta0))"
      ]
    },
    {
      "cell_type": "markdown",
      "source": [
        "На кажой итерации будем оценивать и минимизировать ошибку по одному набору.\n",
        "\n",
        "Напишем функцию для вычисления производной для этого случая."
      ],
      "metadata": {
        "id": "FWj2fmh9CwNs"
      },
      "id": "FWj2fmh9CwNs"
    },
    {
      "cell_type": "code",
      "source": [
        "def loss_derivative(X, y, theta):\n",
        "    theta = np.asarray(theta)\n",
        "    norm = 0.2 * theta\n",
        "    delta = 0\n",
        "    for i in range(len(X)):\n",
        "        deltas = y[i] * f(X[i], theta)\n",
        "        if 1 - deltas >= 0:\n",
        "            delta -= y[i] * X[i]\n",
        "    delta = delta / len(X)\n",
        "    norm += delta\n",
        "    return norm"
      ],
      "metadata": {
        "id": "0DtcHH5CEDuL"
      },
      "id": "0DtcHH5CEDuL",
      "execution_count": null,
      "outputs": []
    },
    {
      "cell_type": "code",
      "execution_count": null,
      "id": "ca79f1da",
      "metadata": {
        "id": "ca79f1da"
      },
      "outputs": [],
      "source": [
        "# Ваш код оптимизации.\n",
        "theta = theta0\n",
        "for i in range(1000):\n",
        "    theta = theta - lr * loss_derivative(X, y, theta)"
      ]
    },
    {
      "cell_type": "code",
      "execution_count": null,
      "id": "011ca5b7",
      "metadata": {
        "id": "011ca5b7",
        "colab": {
          "base_uri": "https://localhost:8080/"
        },
        "outputId": "6f441cc1-8c6e-4bd2-da0a-305803ffef0c"
      },
      "outputs": [
        {
          "output_type": "stream",
          "name": "stdout",
          "text": [
            "Prediction: [ 0.95469216  2.00002713  1.00002713 -0.06797533 -0.54530784]\n",
            "Loss: 0.49588273464817945\n"
          ]
        }
      ],
      "source": [
        "print(\"Prediction:\", f(X, theta))\n",
        "print(\"Loss:\", loss(X, y, theta))\n",
        "\n",
        "with open(\"submission.yaml\", \"w\") as fp:\n",
        "    yaml.safe_dump({\"tasks\": [{\"task1\": {\"answer\": theta.tolist()}}]}, fp)"
      ]
    }
  ],
  "metadata": {
    "accelerator": "GPU",
    "colab": {
      "provenance": []
    },
    "kernelspec": {
      "display_name": "Python 3",
      "language": "python",
      "name": "python3"
    },
    "language_info": {
      "codemirror_mode": {
        "name": "ipython",
        "version": 3
      },
      "file_extension": ".py",
      "mimetype": "text/x-python",
      "name": "python",
      "nbconvert_exporter": "python",
      "pygments_lexer": "ipython3",
      "version": "3.8.9"
    }
  },
  "nbformat": 4,
  "nbformat_minor": 5
}